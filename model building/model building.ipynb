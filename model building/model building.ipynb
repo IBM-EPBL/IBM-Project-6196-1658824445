{
  "nbformat": 4,
  "nbformat_minor": 0,
  "metadata": {
    "colab": {
      "provenance": []
    },
    "kernelspec": {
      "name": "python3",
      "display_name": "Python 3"
    },
    "language_info": {
      "name": "python"
    }
  },
  "cells": [
    {
      "cell_type": "code",
      "execution_count": null,
      "metadata": {
        "id": "l0vV1f2AyQJP"
      },
      "outputs": [],
      "source": []
    },
    {
      "cell_type": "markdown",
      "source": [
        "IMPORTING LIBRARIES"
      ],
      "metadata": {
        "id": "gkPttYeVyTmS"
      }
    },
    {
      "cell_type": "code",
      "source": [
        "from tensorflow.keras.layers import Dense,Flatten,Input\n",
        "from tensorflow.keras.models import Model\n",
        "from tensorflow.keras.preprocessing import image \n",
        "from tensorflow.keras.preprocessing.image import ImageDataGenerator,load_img\n",
        "from tensorflow.keras.applications.vgg16 import VGG16,preprocess_input\n",
        "from glob import glob\n",
        "import numpy as np\n",
        "import matplotlib.pyplot as plt\n",
        "from tensorflow.keras.preprocessing.image import ImageDataGenerator\n",
        "import sys\n",
        "from tensorflow.keras.models import load_model\n",
        "import cv2\n",
        "from skimage.transform import resize "
      ],
      "metadata": {
        "id": "CaqBQhiJycMJ"
      },
      "execution_count": null,
      "outputs": []
    },
    {
      "cell_type": "markdown",
      "source": [
        "IMPORTING DATASET"
      ],
      "metadata": {
        "id": "5jtzamFkyc2l"
      }
    },
    {
      "cell_type": "code",
      "source": [
        "import os, types\n",
        "import pandas as pd\n",
        "from botocore.client import Config\n",
        "import ibm_boto3\n",
        "\n",
        "def __iter__(self): return 0\n",
        "\n",
        "# The following code accesses a file in your IBM Cloud Object Storage. It includes your credentials.\n",
        "# You might want to remove those credentials before you share the notebook.\n",
        "cos_client = ibm_boto3.client(service_name='s3',\n",
        "    ibm_api_key_id='ibm_api_key_id',\n",
        "    ibm_auth_endpoint=\"https://iam.cloud.ibm.com/oidc/token\",\n",
        "    config=Config(signature_version='oauth'),\n",
        "    endpoint_url='https://s3.private.us.cloud-object-storage.appdomain.cloud')\n",
        "\n",
        "bucket = 'Bucket'\n",
        "object_key = 'Dataset.zip'\n",
        "\n",
        "streaming_body_1 = cos_client.get_object(Bucket=bucket, Key=object_key)['Body']\n",
        "\n",
        "# Your data file was loaded into a botocore.response.StreamingBody object.\n",
        "# Please read the documentation of ibm_boto3 and pandas to learn more about the possibilities to load the data.\n",
        "# ibm_boto3 documentation: https://ibm.github.io/ibm-cos-sdk-python/\n",
        "# pandas documentation: http://pandas.pydata.org/"
      ],
      "metadata": {
        "id": "w3Jv-UNeyua7"
      },
      "execution_count": null,
      "outputs": []
    },
    {
      "cell_type": "markdown",
      "source": [
        "UNZIPPING DATASET"
      ],
      "metadata": {
        "id": "z9rGL1weyzqF"
      }
    },
    {
      "cell_type": "code",
      "source": [
        "from io import BytesIO\n",
        "import zipfile\n",
        "unzip = zipfile.ZipFile(BytesIO(streaming_body_1.read()), 'r')\n",
        "file_paths = unzip.namelist()\n",
        "for path in file_paths:\n",
        "    unzip.extract(path)\n",
        "    "
      ],
      "metadata": {
        "id": "3z6pxZiTy6eZ"
      },
      "execution_count": null,
      "outputs": []
    },
    {
      "cell_type": "code",
      "source": [],
      "metadata": {
        "id": "C0wpwCOoy7PL"
      },
      "execution_count": null,
      "outputs": []
    },
    {
      "cell_type": "code",
      "source": [
        "import os\n",
        "os.listdir('.')"
      ],
      "metadata": {
        "id": "3PMIzua_y7Sj"
      },
      "execution_count": null,
      "outputs": []
    },
    {
      "cell_type": "code",
      "source": [
        "train_datagen = ImageDataGenerator(rescale=1./255,shear_range=0.1,zoom_range=0.1,horizontal_flip=True)\n",
        "val_datagen = ImageDataGenerator(rescale=1./255)"
      ],
      "metadata": {
        "id": "Bi-RiFAly_GY"
      },
      "execution_count": null,
      "outputs": []
    },
    {
      "cell_type": "markdown",
      "source": [
        "MODEL FOR BODY TYPE DETECTION"
      ],
      "metadata": {
        "id": "1njUAG3-zBjy"
      }
    },
    {
      "cell_type": "code",
      "source": [
        "trainPath = '/home/wsuser/work/Dataset/body/training'\n",
        "testPath = '/home/wsuser/work/Dataset/body/validation'"
      ],
      "metadata": {
        "id": "aiY4Jt39zHar"
      },
      "execution_count": null,
      "outputs": []
    },
    {
      "cell_type": "code",
      "source": [
        "training_set = train_datagen.flow_from_directory(trainPath,target_size=(244,244),batch_size=10,class_mode='categorical')\n",
        "test_set = train_datagen.flow_from_directory(testPath,target_size=(244,244),batch_size=10,class_mode='categorical')"
      ],
      "metadata": {
        "id": "wfX__aBYzIZ_"
      },
      "execution_count": null,
      "outputs": []
    },
    {
      "cell_type": "code",
      "source": [
        "training_set.class_indices"
      ],
      "metadata": {
        "id": "WJw7O97azOUq"
      },
      "execution_count": null,
      "outputs": []
    },
    {
      "cell_type": "markdown",
      "source": [
        "DECLARING THE MODEL VARIABLE"
      ],
      "metadata": {
        "id": "r9eQByCqzXyl"
      }
    },
    {
      "cell_type": "code",
      "source": [
        "vgg=VGG16(input_shape=(244,244,3),weights='imagenet',include_top=False)\n",
        "\n",
        "\n",
        "\n",
        "for layer in vgg.layers:\n",
        "  layer.trainable=False\n",
        "\n",
        "\n",
        "x=Flatten()(vgg.output)\n",
        "\n",
        "\n",
        "prediction=Dense(3,activation='softmax')(x)\n",
        "\n",
        "\n",
        "model=Model(inputs=vgg.input,outputs=prediction)\n",
        "model.summary()"
      ],
      "metadata": {
        "id": "neQboozWzahi"
      },
      "execution_count": null,
      "outputs": []
    },
    {
      "cell_type": "markdown",
      "source": [
        "COMPILING MODEL"
      ],
      "metadata": {
        "id": "PY9-ycQOzejq"
      }
    },
    {
      "cell_type": "code",
      "source": [
        "model.compile(loss='categorical_crossentropy',optimizer='adam',metrics=['acc'])"
      ],
      "metadata": {
        "id": "5IM2R-zTzgMF"
      },
      "execution_count": null,
      "outputs": []
    },
    {
      "cell_type": "markdown",
      "source": [
        "TRAINING MODEL"
      ],
      "metadata": {
        "id": "dzHNQLxuzlg-"
      }
    },
    {
      "cell_type": "code",
      "source": [
        "r = model.fit_generator(\n",
        "    training_set,\n",
        "    validation_data = test_set,\n",
        "    epochs = 25,\n",
        "    steps_per_epoch=979//10,\n",
        "    validation_steps = 171//10\n",
        ")"
      ],
      "metadata": {
        "id": "O4YTi40azm10"
      },
      "execution_count": null,
      "outputs": []
    },
    {
      "cell_type": "code",
      "source": [
        "model.save('body.h5')"
      ],
      "metadata": {
        "id": "Ry7uIZoZztzi"
      },
      "execution_count": null,
      "outputs": []
    },
    {
      "cell_type": "code",
      "source": [
        "!tar -zcvf body.tgz body.h5"
      ],
      "metadata": {
        "id": "LAbt4o2CzuwR"
      },
      "execution_count": null,
      "outputs": []
    },
    {
      "cell_type": "code",
      "source": [
        "ls -1 "
      ],
      "metadata": {
        "id": "xlCrYkvhzxki"
      },
      "execution_count": null,
      "outputs": []
    },
    {
      "cell_type": "code",
      "source": [
        "!pip install watson-machine-learning-client --upgrade"
      ],
      "metadata": {
        "id": "FdGOmRkGz1eU"
      },
      "execution_count": null,
      "outputs": []
    },
    {
      "cell_type": "markdown",
      "source": [
        "CONNECTING WITH IBM CLOUD"
      ],
      "metadata": {
        "id": "VUjbfGcb0CaP"
      }
    },
    {
      "cell_type": "code",
      "source": [
        "from ibm_watson_machine_learning import APIClient\n",
        "wml_credentials = {\"url\":\"https://us-south.ml.cloud.ibm.com\", \"apikey\":\"apikey\"}\n",
        "client = APIClient(wml_credentials)"
      ],
      "metadata": {
        "id": "lZ7LVnod0HUo"
      },
      "execution_count": null,
      "outputs": []
    },
    {
      "cell_type": "code",
      "source": [
        "def guid_from_space_name(client,space_name):\n",
        "    space = client.spaces.get_details()\n",
        "    return(next(item for item in space['resources'] if item['entity'][\"name\"]==space_name)['metadata']['id'])"
      ],
      "metadata": {
        "id": "Mn9DHn3q0OVc"
      },
      "execution_count": null,
      "outputs": []
    },
    {
      "cell_type": "code",
      "source": [
        "space_uid = guid_from_space_name(client, 'spacename')\n",
        "#space_uid"
      ],
      "metadata": {
        "id": "HNvBNJia0Ovm"
      },
      "execution_count": null,
      "outputs": []
    },
    {
      "cell_type": "code",
      "source": [
        "client.set.default_space(space_uid)"
      ],
      "metadata": {
        "id": "1WpVqTk70Rbm"
      },
      "execution_count": null,
      "outputs": []
    },
    {
      "cell_type": "code",
      "source": [
        "software_spec_uid = client.software_specifications.get_uid_by_name(\"tensorflow_rt22.1-py3.9\")\n",
        "#software_spec_uid"
      ],
      "metadata": {
        "id": "u67LSJjo0UWr"
      },
      "execution_count": null,
      "outputs": []
    },
    {
      "cell_type": "code",
      "source": [
        "client.software_specifications.list()"
      ],
      "metadata": {
        "id": "5rSAFo600XgT"
      },
      "execution_count": null,
      "outputs": []
    },
    {
      "cell_type": "code",
      "source": [
        "model_details = client.repository.store_model(model = 'body.tgz' , meta_props = {\n",
        "    client.repository.ModelMetaNames.NAME : \"body\", \n",
        "    client.repository.ModelMetaNames.TYPE : \"tensorflow_rt22.1\",\n",
        "    client.repository.ModelMetaNames.SOFTWARE_SPEC_UID: software_spec_uid\n",
        "})\n",
        "model_id = client.repository.get_model_id(model_details)"
      ],
      "metadata": {
        "id": "qpcUbM4D0adz"
      },
      "execution_count": null,
      "outputs": []
    },
    {
      "cell_type": "code",
      "source": [
        "client.repository.download(model_id, 'body_cloud.tar.gz')"
      ],
      "metadata": {
        "id": "VsuLdz4R0duy"
      },
      "execution_count": null,
      "outputs": []
    },
    {
      "cell_type": "code",
      "source": [
        "model_body = load_model('body.h5')"
      ],
      "metadata": {
        "id": "ullemJ-I0j_Z"
      },
      "execution_count": null,
      "outputs": []
    },
    {
      "cell_type": "code",
      "source": [],
      "metadata": {
        "id": "Wfw_Z5Et0moZ"
      },
      "execution_count": null,
      "outputs": []
    },
    {
      "cell_type": "markdown",
      "source": [
        "MODEL FOR TYPE DETECTION"
      ],
      "metadata": {
        "id": "ZZDAMFxU0pb7"
      }
    },
    {
      "cell_type": "code",
      "source": [
        "trainPath = '/home/wsuser/work/Dataset/level/training'\n",
        "testPath = '/home/wsuser/work/Dataset/level/validation'"
      ],
      "metadata": {
        "id": "xu_Gll010sQ1"
      },
      "execution_count": null,
      "outputs": []
    },
    {
      "cell_type": "code",
      "source": [
        "training_set = train_datagen.flow_from_directory(trainPath,target_size=(244,244),batch_size=10,class_mode='categorical')\n",
        "test_set = train_datagen.flow_from_directory(testPath,target_size=(244,244),batch_size=10,class_mode='categorical')"
      ],
      "metadata": {
        "id": "5ZwgYuKS0s8R"
      },
      "execution_count": null,
      "outputs": []
    },
    {
      "cell_type": "code",
      "source": [
        "training_set.class_indices"
      ],
      "metadata": {
        "id": "8wX3Gj8w0viM"
      },
      "execution_count": null,
      "outputs": []
    },
    {
      "cell_type": "code",
      "source": [],
      "metadata": {
        "id": "nGVjo5Hm0ydJ"
      },
      "execution_count": null,
      "outputs": []
    },
    {
      "cell_type": "markdown",
      "source": [
        "DECLARING MODEL VARIABLE"
      ],
      "metadata": {
        "id": "MEyfHYwL02YB"
      }
    },
    {
      "cell_type": "code",
      "source": [
        "vgg=VGG16(input_shape=(244,244,3),weights='imagenet',include_top=False)\n",
        "\n",
        "\n",
        "\n",
        "for layer in vgg.layers:\n",
        "  layer.trainable=False\n",
        "\n",
        "\n",
        "x=Flatten()(vgg.output)\n",
        "\n",
        "\n",
        "prediction=Dense(3,activation='softmax')(x)\n",
        "\n",
        "\n",
        "model1=Model(inputs=vgg.input,outputs=prediction)\n",
        "model1.summary()"
      ],
      "metadata": {
        "id": "w8YzukTS05c-"
      },
      "execution_count": null,
      "outputs": []
    },
    {
      "cell_type": "markdown",
      "source": [
        "TRAINING MODEL"
      ],
      "metadata": {
        "id": "_8HsKSpe0-w2"
      }
    },
    {
      "cell_type": "code",
      "source": [
        "vgg=VGG16(input_shape=(244,244,3),weights='imagenet',include_top=False)\n",
        "\n",
        "\n",
        "\n",
        "for layer in vgg.layers:\n",
        "  layer.trainable=False\n",
        "\n",
        "\n",
        "x=Flatten()(vgg.output)\n",
        "\n",
        "\n",
        "prediction=Dense(3,activation='softmax')(x)\n",
        "\n",
        "\n",
        "model1=Model(inputs=vgg.input,outputs=prediction)\n",
        "model1.summary()"
      ],
      "metadata": {
        "id": "gbZ8e9PC1ASR"
      },
      "execution_count": null,
      "outputs": []
    },
    {
      "cell_type": "code",
      "source": [
        "model1.save('level.h5')"
      ],
      "metadata": {
        "id": "v6o0Hg-n1F5K"
      },
      "execution_count": null,
      "outputs": []
    },
    {
      "cell_type": "code",
      "source": [
        "!tar -zcvf level.tgz level.h5"
      ],
      "metadata": {
        "id": "Obaio3kd1JuW"
      },
      "execution_count": null,
      "outputs": []
    },
    {
      "cell_type": "code",
      "source": [
        "ls -1 "
      ],
      "metadata": {
        "id": "YqGuJKMo1MQz"
      },
      "execution_count": null,
      "outputs": []
    },
    {
      "cell_type": "code",
      "source": [
        "odel_details = client.repository.store_model(model = 'level.tgz' , meta_props = {\n",
        "    client.repository.ModelMetaNames.NAME : \"level\", \n",
        "    client.repository.ModelMetaNames.TYPE : \"tensorflow_rt22.1\",\n",
        "    client.repository.ModelMetaNames.SOFTWARE_SPEC_UID: software_spec_uid\n",
        "})\n",
        "model_id = client.repository.get_model_id(model_details)"
      ],
      "metadata": {
        "id": "oqoJcH351Xz1"
      },
      "execution_count": null,
      "outputs": []
    },
    {
      "cell_type": "code",
      "source": [
        "client.repository.download(model_id, 'level_cloud.tar.gz')"
      ],
      "metadata": {
        "id": "96LzMayp1YPq"
      },
      "execution_count": null,
      "outputs": []
    },
    {
      "cell_type": "code",
      "source": [
        "client.repository.download(model_id, 'level_cloud.tar.gz')"
      ],
      "metadata": {
        "id": "atVAxVWg1bas"
      },
      "execution_count": null,
      "outputs": []
    },
    {
      "cell_type": "code",
      "source": [
        "model_body = load_model('level.h5')"
      ],
      "metadata": {
        "id": "g4lfOSTV1eHf"
      },
      "execution_count": null,
      "outputs": []
    },
    {
      "cell_type": "code",
      "source": [
        "os.listdir('.')"
      ],
      "metadata": {
        "id": "PpncHTjo1iE4"
      },
      "execution_count": null,
      "outputs": []
    },
    {
      "cell_type": "code",
      "source": [
        "client.repository.download('model_id','body_cloud.tar.gz')"
      ],
      "metadata": {
        "id": "PWC_qLZl1oF0"
      },
      "execution_count": null,
      "outputs": []
    },
    {
      "cell_type": "code",
      "source": [
        "client.repository.download('model1_id','level_cloud.tar.gz')"
      ],
      "metadata": {
        "id": "RFT-P_BY1rXN"
      },
      "execution_count": null,
      "outputs": []
    }
  ]
}